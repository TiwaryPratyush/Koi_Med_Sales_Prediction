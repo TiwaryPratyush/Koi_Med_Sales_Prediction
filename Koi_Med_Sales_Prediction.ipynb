{
 "cells": [
  {
   "cell_type": "code",
   "execution_count": 3,
   "metadata": {
    "execution": {
     "iopub.execute_input": "2022-03-18T17:39:40.983009Z",
     "iopub.status.busy": "2022-03-18T17:39:40.982658Z",
     "iopub.status.idle": "2022-03-18T17:39:40.991234Z",
     "shell.execute_reply": "2022-03-18T17:39:40.990237Z",
     "shell.execute_reply.started": "2022-03-18T17:39:40.982972Z"
    }
   },
   "outputs": [],
   "source": [
    "# import libraries\n",
    "import numpy as np\n",
    "import pandas as pd\n",
    "import matplotlib.pyplot as plt\n",
    "import seaborn as sns"
   ]
  },
  {
   "cell_type": "code",
   "execution_count": 4,
   "metadata": {
    "execution": {
     "iopub.execute_input": "2022-03-18T17:39:41.726020Z",
     "iopub.status.busy": "2022-03-18T17:39:41.725172Z",
     "iopub.status.idle": "2022-03-18T17:39:58.335758Z",
     "shell.execute_reply": "2022-03-18T17:39:58.334644Z",
     "shell.execute_reply.started": "2022-03-18T17:39:41.725968Z"
    }
   },
   "outputs": [],
   "source": [
    "## read all the data set\n",
    "train_df = pd.read_csv(\"train_data-1646154868194.csv\")\n",
    "#test_df = pd.read_csv(\"test_data-1646154813929.csv\")\n",
    "#ff_df = pd.read_csv(\"foot_fall-1646154997847.csv\")"
   ]
  },
  {
   "cell_type": "code",
   "execution_count": 5,
   "metadata": {
    "execution": {
     "iopub.execute_input": "2022-03-18T17:39:58.338005Z",
     "iopub.status.busy": "2022-03-18T17:39:58.337733Z",
     "iopub.status.idle": "2022-03-18T17:39:58.562870Z",
     "shell.execute_reply": "2022-03-18T17:39:58.562255Z",
     "shell.execute_reply.started": "2022-03-18T17:39:58.337973Z"
    }
   },
   "outputs": [
    {
     "data": {
      "text/plain": [
       "year        0\n",
       "month       0\n",
       "day         0\n",
       "city        0\n",
       "medicine    0\n",
       "sales       0\n",
       "dtype: int64"
      ]
     },
     "execution_count": 5,
     "metadata": {},
     "output_type": "execute_result"
    }
   ],
   "source": [
    "## check for any null values in train data set\n",
    "train_df.isna().sum()"
   ]
  },
  {
   "cell_type": "code",
   "execution_count": 6,
   "metadata": {
    "execution": {
     "iopub.execute_input": "2022-03-18T17:39:58.564231Z",
     "iopub.status.busy": "2022-03-18T17:39:58.563842Z",
     "iopub.status.idle": "2022-03-18T17:39:58.675182Z",
     "shell.execute_reply": "2022-03-18T17:39:58.674121Z",
     "shell.execute_reply.started": "2022-03-18T17:39:58.564192Z"
    }
   },
   "outputs": [
    {
     "data": {
      "text/html": [
       "<div>\n",
       "<style scoped>\n",
       "    .dataframe tbody tr th:only-of-type {\n",
       "        vertical-align: middle;\n",
       "    }\n",
       "\n",
       "    .dataframe tbody tr th {\n",
       "        vertical-align: top;\n",
       "    }\n",
       "\n",
       "    .dataframe thead th {\n",
       "        text-align: right;\n",
       "    }\n",
       "</style>\n",
       "<table border=\"1\" class=\"dataframe\">\n",
       "  <thead>\n",
       "    <tr style=\"text-align: right;\">\n",
       "      <th></th>\n",
       "      <th>year</th>\n",
       "      <th>month</th>\n",
       "      <th>day</th>\n",
       "      <th>city</th>\n",
       "      <th>medicine</th>\n",
       "      <th>sales</th>\n",
       "    </tr>\n",
       "  </thead>\n",
       "  <tbody>\n",
       "    <tr>\n",
       "      <th>17792</th>\n",
       "      <td>2015</td>\n",
       "      <td>1</td>\n",
       "      <td>3</td>\n",
       "      <td>6</td>\n",
       "      <td>117</td>\n",
       "      <td>-32.32</td>\n",
       "    </tr>\n",
       "    <tr>\n",
       "      <th>73647</th>\n",
       "      <td>2015</td>\n",
       "      <td>1</td>\n",
       "      <td>8</td>\n",
       "      <td>4</td>\n",
       "      <td>50</td>\n",
       "      <td>-8.00</td>\n",
       "    </tr>\n",
       "    <tr>\n",
       "      <th>83397</th>\n",
       "      <td>2015</td>\n",
       "      <td>1</td>\n",
       "      <td>9</td>\n",
       "      <td>2</td>\n",
       "      <td>785</td>\n",
       "      <td>-4.00</td>\n",
       "    </tr>\n",
       "    <tr>\n",
       "      <th>85164</th>\n",
       "      <td>2015</td>\n",
       "      <td>1</td>\n",
       "      <td>9</td>\n",
       "      <td>4</td>\n",
       "      <td>232</td>\n",
       "      <td>-8.00</td>\n",
       "    </tr>\n",
       "    <tr>\n",
       "      <th>86418</th>\n",
       "      <td>2015</td>\n",
       "      <td>1</td>\n",
       "      <td>9</td>\n",
       "      <td>5</td>\n",
       "      <td>253</td>\n",
       "      <td>-40.00</td>\n",
       "    </tr>\n",
       "    <tr>\n",
       "      <th>...</th>\n",
       "      <td>...</td>\n",
       "      <td>...</td>\n",
       "      <td>...</td>\n",
       "      <td>...</td>\n",
       "      <td>...</td>\n",
       "      <td>...</td>\n",
       "    </tr>\n",
       "    <tr>\n",
       "      <th>22598540</th>\n",
       "      <td>2018</td>\n",
       "      <td>6</td>\n",
       "      <td>29</td>\n",
       "      <td>9</td>\n",
       "      <td>3125</td>\n",
       "      <td>-4.00</td>\n",
       "    </tr>\n",
       "    <tr>\n",
       "      <th>22601387</th>\n",
       "      <td>2018</td>\n",
       "      <td>6</td>\n",
       "      <td>30</td>\n",
       "      <td>1</td>\n",
       "      <td>1404</td>\n",
       "      <td>-8.00</td>\n",
       "    </tr>\n",
       "    <tr>\n",
       "      <th>22604216</th>\n",
       "      <td>2018</td>\n",
       "      <td>6</td>\n",
       "      <td>30</td>\n",
       "      <td>2</td>\n",
       "      <td>886</td>\n",
       "      <td>-4.00</td>\n",
       "    </tr>\n",
       "    <tr>\n",
       "      <th>22604217</th>\n",
       "      <td>2018</td>\n",
       "      <td>6</td>\n",
       "      <td>30</td>\n",
       "      <td>2</td>\n",
       "      <td>887</td>\n",
       "      <td>-4.00</td>\n",
       "    </tr>\n",
       "    <tr>\n",
       "      <th>22624054</th>\n",
       "      <td>2018</td>\n",
       "      <td>6</td>\n",
       "      <td>30</td>\n",
       "      <td>10</td>\n",
       "      <td>2856</td>\n",
       "      <td>-44.00</td>\n",
       "    </tr>\n",
       "  </tbody>\n",
       "</table>\n",
       "<p>1672 rows × 6 columns</p>\n",
       "</div>"
      ],
      "text/plain": [
       "          year  month  day  city  medicine  sales\n",
       "17792     2015      1    3     6       117 -32.32\n",
       "73647     2015      1    8     4        50  -8.00\n",
       "83397     2015      1    9     2       785  -4.00\n",
       "85164     2015      1    9     4       232  -8.00\n",
       "86418     2015      1    9     5       253 -40.00\n",
       "...        ...    ...  ...   ...       ...    ...\n",
       "22598540  2018      6   29     9      3125  -4.00\n",
       "22601387  2018      6   30     1      1404  -8.00\n",
       "22604216  2018      6   30     2       886  -4.00\n",
       "22604217  2018      6   30     2       887  -4.00\n",
       "22624054  2018      6   30    10      2856 -44.00\n",
       "\n",
       "[1672 rows x 6 columns]"
      ]
     },
     "execution_count": 6,
     "metadata": {},
     "output_type": "execute_result"
    }
   ],
   "source": [
    "## check for the sales column where sales is lessthen zero\n",
    "train_df[train_df[\"sales\"]<0]"
   ]
  },
  {
   "cell_type": "code",
   "execution_count": 7,
   "metadata": {
    "execution": {
     "iopub.execute_input": "2022-03-18T17:39:58.678228Z",
     "iopub.status.busy": "2022-03-18T17:39:58.677879Z",
     "iopub.status.idle": "2022-03-18T17:40:00.244190Z",
     "shell.execute_reply": "2022-03-18T17:40:00.243218Z",
     "shell.execute_reply.started": "2022-03-18T17:39:58.678180Z"
    }
   },
   "outputs": [],
   "source": [
    "## we need to drop those rows where sales in lessthen zero because sales can't be negative\n",
    "train_df.drop(train_df[train_df.sales < 0].index, inplace=True)"
   ]
  },
  {
   "cell_type": "code",
   "execution_count": 8,
   "metadata": {
    "execution": {
     "iopub.execute_input": "2022-03-18T17:40:00.246006Z",
     "iopub.status.busy": "2022-03-18T17:40:00.245747Z",
     "iopub.status.idle": "2022-03-18T17:40:11.651439Z",
     "shell.execute_reply": "2022-03-18T17:40:11.648566Z",
     "shell.execute_reply.started": "2022-03-18T17:40:00.245973Z"
    }
   },
   "outputs": [],
   "source": [
    "## we need to drop the duplicate entries from our data set\n",
    "train_df.drop_duplicates(inplace=True)"
   ]
  },
  {
   "cell_type": "code",
   "execution_count": 9,
   "metadata": {
    "execution": {
     "iopub.execute_input": "2022-03-18T17:40:11.656116Z",
     "iopub.status.busy": "2022-03-18T17:40:11.655547Z",
     "iopub.status.idle": "2022-03-18T17:40:12.929979Z",
     "shell.execute_reply": "2022-03-18T17:40:12.928918Z",
     "shell.execute_reply.started": "2022-03-18T17:40:11.656076Z"
    }
   },
   "outputs": [],
   "source": [
    "## using teh day , month and the year columns bring out the date column for train and the test data set\n",
    "train_df['date']=pd.to_datetime(train_df[['year','month','day']])"
   ]
  },
  {
   "cell_type": "code",
   "execution_count": 1,
   "metadata": {
    "execution": {
     "iopub.execute_input": "2022-03-18T17:40:12.931817Z",
     "iopub.status.busy": "2022-03-18T17:40:12.931478Z",
     "iopub.status.idle": "2022-03-18T17:40:27.319873Z",
     "shell.execute_reply": "2022-03-18T17:40:27.318682Z",
     "shell.execute_reply.started": "2022-03-18T17:40:12.931774Z"
    }
   },
   "outputs": [],
   "source": [
    "## bringing out the new features from the given features.\n",
    "train_df['quarter'] = train_df[\"date\"].dt.quarter\n",
    "#test_df['quarter'] = test_df[\"date\"].dt.quarter\n",
    "\n",
    "train_df[\"week_day\"] = train_df[\"date\"].dt.dayofweek\n",
    "#test_df[\"week_day\"] = test_df[\"date\"].dt.dayofweek\n",
    "\n",
    "train_df[\"weekofyear\"] = train_df[\"date\"].dt.weekofyear\n",
    "#test_df[\"weekofyear\"] = test_df[\"date\"].dt.weekofyear"
   ]
  },
  {
   "cell_type": "code",
   "execution_count": 11,
   "metadata": {
    "execution": {
     "iopub.execute_input": "2022-03-18T17:40:27.321497Z",
     "iopub.status.busy": "2022-03-18T17:40:27.321131Z",
     "iopub.status.idle": "2022-03-18T17:40:29.360158Z",
     "shell.execute_reply": "2022-03-18T17:40:29.358982Z",
     "shell.execute_reply.started": "2022-03-18T17:40:27.321449Z"
    }
   },
   "outputs": [
    {
     "data": {
      "text/plain": [
       "quarter  medicine\n",
       "1        1            23.121864\n",
       "         2            69.037504\n",
       "         3           120.127767\n",
       "         4            23.971951\n",
       "         5            11.947731\n",
       "                        ...    \n",
       "4        3203         18.909091\n",
       "         3204        400.000000\n",
       "         3205          4.571429\n",
       "         3206         21.629630\n",
       "         3207          4.000000\n",
       "Name: sales, Length: 12601, dtype: float64"
      ]
     },
     "execution_count": 11,
     "metadata": {},
     "output_type": "execute_result"
    }
   ],
   "source": [
    "## using groupby extracting new features.\n",
    "train_df.groupby(['quarter', 'medicine'])['sales'].mean()"
   ]
  },
  {
   "cell_type": "code",
   "execution_count": 12,
   "metadata": {
    "execution": {
     "iopub.execute_input": "2022-03-18T17:40:29.362244Z",
     "iopub.status.busy": "2022-03-18T17:40:29.361920Z",
     "iopub.status.idle": "2022-03-18T17:40:29.366444Z",
     "shell.execute_reply": "2022-03-18T17:40:29.365353Z",
     "shell.execute_reply.started": "2022-03-18T17:40:29.362200Z"
    }
   },
   "outputs": [],
   "source": [
    "## bring out the new column in the train data set\n",
    "#train_df[\"medicine_quarter_mean\"] = train_df.groupby([\"quarter\",\"medicine\"])[\"sales\"].transform('mean')\n",
    "## droped these columns because of less space "
   ]
  },
  {
   "cell_type": "code",
   "execution_count": 13,
   "metadata": {
    "execution": {
     "iopub.execute_input": "2022-03-18T17:40:29.369996Z",
     "iopub.status.busy": "2022-03-18T17:40:29.369617Z",
     "iopub.status.idle": "2022-03-18T17:40:32.054896Z",
     "shell.execute_reply": "2022-03-18T17:40:32.053837Z",
     "shell.execute_reply.started": "2022-03-18T17:40:29.369948Z"
    }
   },
   "outputs": [],
   "source": [
    "#train_df['city_quarter_mean'] = train_df.groupby(['quarter', 'city'])['sales'].transform('mean') ## droped no space\n",
    "## bellow(city,medicine,quarter,mean) is used in the code file because is is using three important columns.\n",
    "train_df['city_medicine_quarter_mean'] = train_df.groupby(['quarter', 'medicine', 'city'])['sales'].transform('mean')"
   ]
  },
  {
   "cell_type": "code",
   "execution_count": 13,
   "metadata": {
    "execution": {
     "iopub.execute_input": "2022-03-18T16:16:59.136017Z",
     "iopub.status.busy": "2022-03-18T16:16:59.135200Z",
     "iopub.status.idle": "2022-03-18T16:17:01.605498Z",
     "shell.execute_reply": "2022-03-18T16:17:01.604241Z",
     "shell.execute_reply.started": "2022-03-18T16:16:59.135976Z"
    }
   },
   "outputs": [],
   "source": [
    "#train_df['medicine_month_mean'] = train_df.groupby(['month', 'medicine'])['sales'].transform('mean') ## droped no space\n",
    "#train_df['city_month_mean'] = train_df.groupby(['month', 'city'])['sales'].transform('mean') ## droped no space\n",
    "train_df['city_medicine_month_mean'] = train_df.groupby(['month', 'medicine', 'city'])['sales'].transform('mean')## used"
   ]
  },
  {
   "cell_type": "code",
   "execution_count": 14,
   "metadata": {
    "execution": {
     "iopub.execute_input": "2022-03-18T16:17:01.607841Z",
     "iopub.status.busy": "2022-03-18T16:17:01.607066Z",
     "iopub.status.idle": "2022-03-18T16:17:04.514931Z",
     "shell.execute_reply": "2022-03-18T16:17:04.513972Z",
     "shell.execute_reply.started": "2022-03-18T16:17:01.607799Z"
    }
   },
   "outputs": [],
   "source": [
    "#train_df['medicine_weekofyear_mean'] = train_df.groupby(['weekofyear','medicine'])['sales'].transform('mean') ## droped no space \n",
    "#train_df['city_weekofyear_mean'] = train_df.groupby(['weekofyear', 'city'])['sales'].transform('mean') ## droped no space \n",
    "train_df['city_medicine_weekofyear_mean'] = train_df.groupby(['weekofyear', 'medicine', 'city'])['sales'].transform('mean') ## used"
   ]
  },
  {
   "cell_type": "code",
   "execution_count": 15,
   "metadata": {
    "execution": {
     "iopub.execute_input": "2022-03-18T16:17:04.516887Z",
     "iopub.status.busy": "2022-03-18T16:17:04.516495Z",
     "iopub.status.idle": "2022-03-18T16:17:07.230438Z",
     "shell.execute_reply": "2022-03-18T16:17:07.229454Z",
     "shell.execute_reply.started": "2022-03-18T16:17:04.516843Z"
    }
   },
   "outputs": [],
   "source": [
    "#train_df['medicine_week_day_mean'] = train_df.groupby(['week_day', 'medicine'])['sales'].transform('mean') ## droped no space \n",
    "#train_df['city_week_day_mean'] = train_df.groupby(['week_day', 'city'])['sales'].transform('mean') ## droped no space \n",
    "train_df['city_medicine_week_day_mean'] = train_df.groupby(['week_day', 'medicine', 'city'])['sales'].transform('mean') ## used"
   ]
  },
  {
   "cell_type": "code",
   "execution_count": 16,
   "metadata": {
    "execution": {
     "iopub.execute_input": "2022-03-18T16:17:07.232224Z",
     "iopub.status.busy": "2022-03-18T16:17:07.231968Z",
     "iopub.status.idle": "2022-03-18T16:17:07.789612Z",
     "shell.execute_reply": "2022-03-18T16:17:07.788695Z",
     "shell.execute_reply.started": "2022-03-18T16:17:07.232191Z"
    }
   },
   "outputs": [
    {
     "data": {
      "text/plain": [
       "0"
      ]
     },
     "execution_count": 16,
     "metadata": {},
     "output_type": "execute_result"
    }
   ],
   "source": [
    "train_df.isnull().sum().sum()"
   ]
  },
  {
   "cell_type": "code",
   "execution_count": 17,
   "metadata": {
    "execution": {
     "iopub.execute_input": "2022-03-18T16:17:07.791117Z",
     "iopub.status.busy": "2022-03-18T16:17:07.790860Z",
     "iopub.status.idle": "2022-03-18T16:17:07.806933Z",
     "shell.execute_reply": "2022-03-18T16:17:07.806058Z",
     "shell.execute_reply.started": "2022-03-18T16:17:07.791087Z"
    }
   },
   "outputs": [
    {
     "name": "stdout",
     "output_type": "stream",
     "text": [
      "<class 'pandas.core.frame.DataFrame'>\n",
      "Int64Index: 22620846 entries, 0 to 22624344\n",
      "Data columns (total 14 columns):\n",
      " #   Column                         Dtype         \n",
      "---  ------                         -----         \n",
      " 0   year                           int64         \n",
      " 1   month                          int64         \n",
      " 2   day                            int64         \n",
      " 3   city                           int64         \n",
      " 4   medicine                       int64         \n",
      " 5   sales                          float64       \n",
      " 6   date                           datetime64[ns]\n",
      " 7   quarter                        int64         \n",
      " 8   week_day                       int64         \n",
      " 9   weekofyear                     int64         \n",
      " 10  city_medicine_quarter_mean     float64       \n",
      " 11  city_medicine_month_mean       float64       \n",
      " 12  city_medicine_weekofyear_mean  float64       \n",
      " 13  city_medicine_week_day_mean    float64       \n",
      "dtypes: datetime64[ns](1), float64(5), int64(8)\n",
      "memory usage: 2.5 GB\n"
     ]
    }
   ],
   "source": [
    "train_df.info()"
   ]
  },
  {
   "cell_type": "code",
   "execution_count": 18,
   "metadata": {
    "execution": {
     "iopub.execute_input": "2022-03-18T16:17:07.808475Z",
     "iopub.status.busy": "2022-03-18T16:17:07.808106Z",
     "iopub.status.idle": "2022-03-18T16:17:07.820964Z",
     "shell.execute_reply": "2022-03-18T16:17:07.819808Z",
     "shell.execute_reply.started": "2022-03-18T16:17:07.808435Z"
    }
   },
   "outputs": [
    {
     "name": "stdout",
     "output_type": "stream",
     "text": [
      "['year', 'month', 'day', 'city', 'medicine', 'quarter', 'week_day', 'weekofyear']\n"
     ]
    }
   ],
   "source": [
    "cat_cols = [\"year\",\"month\",\"day\",\"city\",\"medicine\",\"quarter\",\"week_day\",\"weekofyear\"]\n",
    "print(cat_cols)"
   ]
  },
  {
   "cell_type": "code",
   "execution_count": 2,
   "metadata": {},
   "outputs": [],
   "source": [
    "#train_df['city'].hist(figsize=(10, 5));"
   ]
  },
  {
   "cell_type": "code",
   "execution_count": 3,
   "metadata": {
    "execution": {
     "iopub.execute_input": "2022-03-18T17:47:50.062926Z",
     "iopub.status.busy": "2022-03-18T17:47:50.061841Z",
     "iopub.status.idle": "2022-03-18T17:47:50.854915Z",
     "shell.execute_reply": "2022-03-18T17:47:50.854179Z",
     "shell.execute_reply.started": "2022-03-18T17:47:50.062867Z"
    }
   },
   "outputs": [],
   "source": [
    "#train_df['quarter'].hist(figsize=(10,5));"
   ]
  },
  {
   "cell_type": "code",
   "execution_count": 29,
   "metadata": {
    "execution": {
     "iopub.execute_input": "2022-03-18T17:48:59.038077Z",
     "iopub.status.busy": "2022-03-18T17:48:59.037698Z",
     "iopub.status.idle": "2022-03-18T17:48:59.045631Z",
     "shell.execute_reply": "2022-03-18T17:48:59.044449Z",
     "shell.execute_reply.started": "2022-03-18T17:48:59.038031Z"
    }
   },
   "outputs": [],
   "source": [
    "## Custom Function for Bar Plots\n",
    "\n",
    "def barplot(column,train_df):\n",
    "    bar_plot1 = sns.countplot(x=column, data=train_df)\n",
    "    \n",
    "    total = len(train_df[column])\n",
    "    for p in bar_plot1.patches:\n",
    "        percentage = '{:.2f}%'.format(100 * p.get_height()/total)\n",
    "        height = p.get_height()\n",
    "        bar_plot1.text(p.get_x()+ p.get_width()/2, height + 400, percentage, ha=\"center\")"
   ]
  },
  {
   "cell_type": "code",
   "execution_count": 5,
   "metadata": {
    "execution": {
     "iopub.execute_input": "2022-03-18T17:49:41.010118Z",
     "iopub.status.busy": "2022-03-18T17:49:41.009738Z",
     "iopub.status.idle": "2022-03-18T17:49:43.739725Z",
     "shell.execute_reply": "2022-03-18T17:49:43.738877Z",
     "shell.execute_reply.started": "2022-03-18T17:49:41.010077Z"
    }
   },
   "outputs": [],
   "source": [
    "#import matplotlib.pyplot as plt\n",
    "#barplot(\"month\",train_df)"
   ]
  },
  {
   "cell_type": "code",
   "execution_count": 4,
   "metadata": {
    "execution": {
     "iopub.execute_input": "2022-03-18T17:51:19.044710Z",
     "iopub.status.busy": "2022-03-18T17:51:19.044214Z",
     "iopub.status.idle": "2022-03-18T17:51:21.564452Z",
     "shell.execute_reply": "2022-03-18T17:51:21.563376Z",
     "shell.execute_reply.started": "2022-03-18T17:51:19.044656Z"
    }
   },
   "outputs": [],
   "source": [
    "#barplot(\"week_day\",train_df)"
   ]
  },
  {
   "cell_type": "code",
   "execution_count": 19,
   "metadata": {
    "execution": {
     "iopub.execute_input": "2022-03-18T16:17:07.822990Z",
     "iopub.status.busy": "2022-03-18T16:17:07.822584Z",
     "iopub.status.idle": "2022-03-18T16:17:15.411171Z",
     "shell.execute_reply": "2022-03-18T16:17:15.410053Z",
     "shell.execute_reply.started": "2022-03-18T16:17:07.822957Z"
    }
   },
   "outputs": [],
   "source": [
    "train_df[cat_cols] = train_df[cat_cols].astype(\"category\")"
   ]
  },
  {
   "cell_type": "code",
   "execution_count": 20,
   "metadata": {
    "execution": {
     "iopub.execute_input": "2022-03-18T16:17:15.412795Z",
     "iopub.status.busy": "2022-03-18T16:17:15.412564Z",
     "iopub.status.idle": "2022-03-18T16:17:15.418528Z",
     "shell.execute_reply": "2022-03-18T16:17:15.417501Z",
     "shell.execute_reply.started": "2022-03-18T16:17:15.412767Z"
    }
   },
   "outputs": [
    {
     "name": "stdout",
     "output_type": "stream",
     "text": [
      "['city_medicine_quarter_mean', 'city_medicine_month_mean', 'city_medicine_weekofyear_mean', 'city_medicine_week_day_mean']\n"
     ]
    }
   ],
   "source": [
    "cont_cols =[\"city_medicine_quarter_mean\",\"city_medicine_month_mean\",\"city_medicine_weekofyear_mean\",\"city_medicine_week_day_mean\"]\n",
    "print(cont_cols)"
   ]
  },
  {
   "cell_type": "code",
   "execution_count": 21,
   "metadata": {
    "execution": {
     "iopub.execute_input": "2022-03-18T16:17:15.420299Z",
     "iopub.status.busy": "2022-03-18T16:17:15.419994Z",
     "iopub.status.idle": "2022-03-18T16:17:15.432329Z",
     "shell.execute_reply": "2022-03-18T16:17:15.431365Z",
     "shell.execute_reply.started": "2022-03-18T16:17:15.420231Z"
    }
   },
   "outputs": [
    {
     "data": {
      "text/plain": [
       "(22620846, 14)"
      ]
     },
     "execution_count": 21,
     "metadata": {},
     "output_type": "execute_result"
    }
   ],
   "source": [
    "train_df.shape"
   ]
  },
  {
   "cell_type": "code",
   "execution_count": 22,
   "metadata": {
    "execution": {
     "iopub.execute_input": "2022-03-18T16:17:15.434113Z",
     "iopub.status.busy": "2022-03-18T16:17:15.433830Z",
     "iopub.status.idle": "2022-03-18T16:17:15.767578Z",
     "shell.execute_reply": "2022-03-18T16:17:15.766295Z",
     "shell.execute_reply.started": "2022-03-18T16:17:15.434080Z"
    }
   },
   "outputs": [],
   "source": [
    "train_df.drop([\"date\"],axis=1,inplace=True)"
   ]
  },
  {
   "cell_type": "code",
   "execution_count": 25,
   "metadata": {
    "execution": {
     "iopub.execute_input": "2022-03-18T16:17:18.569174Z",
     "iopub.status.busy": "2022-03-18T16:17:18.568920Z",
     "iopub.status.idle": "2022-03-18T16:17:26.699618Z",
     "shell.execute_reply": "2022-03-18T16:17:26.698916Z",
     "shell.execute_reply.started": "2022-03-18T16:17:18.569143Z"
    }
   },
   "outputs": [],
   "source": [
    "from sklearn.model_selection import train_test_split\n",
    "# split the data into train and the validation \n",
    "y=train_df[\"sales\"]\n",
    "X=train_df.drop('sales', axis=1)\n",
    "X_train, X_val, y_train, y_val = train_test_split(X, y, test_size=0.20,random_state=123)"
   ]
  },
  {
   "cell_type": "code",
   "execution_count": 26,
   "metadata": {
    "execution": {
     "iopub.execute_input": "2022-03-18T16:17:26.701314Z",
     "iopub.status.busy": "2022-03-18T16:17:26.700688Z",
     "iopub.status.idle": "2022-03-18T16:17:28.302666Z",
     "shell.execute_reply": "2022-03-18T16:17:28.301683Z",
     "shell.execute_reply.started": "2022-03-18T16:17:26.701266Z"
    }
   },
   "outputs": [],
   "source": [
    "## Feature Scaling\n",
    "from sklearn.preprocessing import StandardScaler\n",
    "\n",
    "sc = StandardScaler()\n",
    "X_train[cont_cols] = sc.fit_transform(X_train[cont_cols])"
   ]
  },
  {
   "cell_type": "code",
   "execution_count": null,
   "metadata": {},
   "outputs": [],
   "source": [
    "## LinearRegression ##"
   ]
  },
  {
   "cell_type": "code",
   "execution_count": 27,
   "metadata": {
    "execution": {
     "iopub.execute_input": "2022-03-18T16:17:28.305026Z",
     "iopub.status.busy": "2022-03-18T16:17:28.304094Z",
     "iopub.status.idle": "2022-03-18T16:17:41.836892Z",
     "shell.execute_reply": "2022-03-18T16:17:41.835800Z",
     "shell.execute_reply.started": "2022-03-18T16:17:28.304975Z"
    }
   },
   "outputs": [
    {
     "name": "stdout",
     "output_type": "stream",
     "text": [
      "Train set mse: 4339.485867120336\n",
      "train rmse: 65.87477413335347\n"
     ]
    }
   ],
   "source": [
    "from sklearn.linear_model import LinearRegression\n",
    "from sklearn import metrics\n",
    "\n",
    "lr = LinearRegression()\n",
    "lr.fit(X_train,y_train)\n",
    "y_pred_train =lr.predict(X_train)\n",
    "print('Train set mse:', mean_squared_error(y_train, lr.predict(X_train)))\n",
    "print(\"train rmse:\", np.sqrt(metrics.mean_squared_error(y_train, y_pred_train)))"
   ]
  },
  {
   "cell_type": "code",
   "execution_count": null,
   "metadata": {},
   "outputs": [],
   "source": [
    "## RandomForest ##"
   ]
  },
  {
   "cell_type": "code",
   "execution_count": null,
   "metadata": {
    "execution": {
     "iopub.execute_input": "2022-03-18T16:22:36.231915Z",
     "iopub.status.busy": "2022-03-18T16:22:36.231539Z"
    }
   },
   "outputs": [],
   "source": [
    "## performing the random forest algorithm\n",
    "from sklearn.ensemble import RandomForestRegressor\n",
    "\n",
    "regressor = RandomForestRegressor(n_estimators=100, random_state=0)\n",
    "\n",
    "regressor.fit(X_train, y_train)\n",
    "\n",
    "y_pred_train =regressor.predict(X_train)\n",
    "y_pred_val=regressor.predict(X_val)\n",
    "print(\"train rmse:\", np.sqrt(metrics.mean_squared_error(y_train, y_pred_train)))\n",
    "\n",
    "#y_pred_val = regressor.predict(X_val)\n",
    "#print(\"test rmse:\",np.sqrt(metrics.mean_squared_error(y_val, y_pred_val)))"
   ]
  },
  {
   "cell_type": "code",
   "execution_count": null,
   "metadata": {},
   "outputs": [],
   "source": [
    "## DecisionTree ##"
   ]
  },
  {
   "cell_type": "code",
   "execution_count": 28,
   "metadata": {
    "execution": {
     "iopub.execute_input": "2022-03-18T16:17:41.839150Z",
     "iopub.status.busy": "2022-03-18T16:17:41.838602Z",
     "iopub.status.idle": "2022-03-18T16:18:59.281108Z",
     "shell.execute_reply": "2022-03-18T16:18:59.280109Z",
     "shell.execute_reply.started": "2022-03-18T16:17:41.839097Z"
    }
   },
   "outputs": [
    {
     "name": "stdout",
     "output_type": "stream",
     "text": [
      "train rmse: 68.8038859900655\n"
     ]
    }
   ],
   "source": [
    "from sklearn.tree import DecisionTreeRegressor\n",
    "reg_dt =DecisionTreeRegressor(max_depth=4)\n",
    "reg_dt.fit(X_train,y_train)\n",
    "\n",
    "y_pred_train = reg_dt.predict(X_train)\n",
    "y_pred_val = reg_dt.predict(X_val)\n",
    "\n",
    "print(\"train rmse:\", np.sqrt(metrics.mean_squared_error(y_train, y_pred_train)))\n",
    "#print(\"test rmse:\",np.sqrt(metrics.mean_squared_error(y_val, y_pred_val)))"
   ]
  }
 ],
 "metadata": {
  "kernelspec": {
   "display_name": "Python 3",
   "language": "python",
   "name": "python3"
  },
  "language_info": {
   "codemirror_mode": {
    "name": "ipython",
    "version": 3
   },
   "file_extension": ".py",
   "mimetype": "text/x-python",
   "name": "python",
   "nbconvert_exporter": "python",
   "pygments_lexer": "ipython3",
   "version": "3.7.6"
  }
 },
 "nbformat": 4,
 "nbformat_minor": 4
}
